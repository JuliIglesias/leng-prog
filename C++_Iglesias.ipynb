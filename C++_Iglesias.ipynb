{
  "nbformat": 4,
  "nbformat_minor": 0,
  "metadata": {
    "colab": {
      "provenance": [],
      "toc_visible": true,
      "authorship_tag": "ABX9TyNkQLaluZEIBRCej/TvetsQ",
      "include_colab_link": true
    },
    "kernelspec": {
      "name": "python3",
      "display_name": "Python 3"
    },
    "language_info": {
      "name": "python"
    }
  },
  "cells": [
    {
      "cell_type": "markdown",
      "metadata": {
        "id": "view-in-github",
        "colab_type": "text"
      },
      "source": [
        "<a href=\"https://colab.research.google.com/github/JuliIglesias/leng-prog/blob/main/C%2B%2B_Iglesias.ipynb\" target=\"_parent\"><img src=\"https://colab.research.google.com/assets/colab-badge.svg\" alt=\"Open In Colab\"/></a>"
      ]
    },
    {
      "cell_type": "markdown",
      "source": [
        "# Introducción a C++\n",
        "---\n",
        "\n",
        "*C++ es un lenguaje de programación creado por **Bjarne Stroustrup** en 1983 como una extensión de C en los Laboratorios Bell.*\n",
        "\n",
        "Su proposito inicial es mejorar el lenguaje C, añadiendole caracteristicas como clases y herencia para facilitar la programación orientada a objetos (POO). Combina características de programación de alto nivel con capacidades de bajo nivel.\n",
        "\n",
        "> C++98: Fue la primera versión estándar.                                                     \n",
        "> C++11: Introdujo características como lambdas y punteros intelligentes.                                                                                                \n",
        "> C++20: Trajo funciones de rango, módulos y conceptos.\n",
        "\n",
        "\\\n",
        "### Principales Usos\n",
        "- Desarrollo de sistemas operativos como Windows o Linux.\n",
        "- Aplicaciones de alto rendimiento (juegos, motores de física).\n",
        "- Aplicaciones embebidas e IoT.\n",
        "- Desarrollo de software en áreas científicas.\n",
        "\n",
        "\\\n",
        "### Comparación con Otros Lenguajes\n",
        "| Lenguaje | Paradigma        | Nivel   | Ventajas                  |\n",
        "|----------|------------------|---------|---------------------------|\n",
        "| C++      | Multiparadigma   | Medio   | Control, velocidad.       |\n",
        "| Python   | Interpretado     | Alto    | Facilidad de uso.         |\n",
        "| Java     | Orientado a Obj. | Medio   | Portabilidad.             |"
      ],
      "metadata": {
        "id": "EE7jIw8mJQvs"
      }
    },
    {
      "cell_type": "markdown",
      "source": [
        "## Características\n",
        "\n",
        "**Orientado a objetos:**\n",
        "- *Clases y objetos:* Estructuras que encapsulan datos y funciones relacionadas.\n",
        "- *Herencia:* Permite crear nuevas clases basadas en otras.\n",
        "- *Polimorfismo:* Implementación de métodos con el mismo nombre pero comportamiento diferente.\n",
        "- *Encapsulación:* Control del acceso a los datos de una clase.\n",
        "\n",
        "\\\n",
        "**Control de memoria:**\n",
        "- *Punteros y referencias:* Acceso directo a memoria.\n",
        "- *Manejo manual de memoria:* Uso de new y delete para asignar y liberar memoria.\n",
        "- *Punteros inteligentes:* Introducidos en C++11 (std::unique_ptr, std::shared_ptr) para manejo seguro de memoria."
      ],
      "metadata": {
        "id": "yvKsW9M2fzv-"
      }
    },
    {
      "cell_type": "markdown",
      "source": [
        "## Ejemplo Simple y Clásico \"Hola, Mundo\"\n",
        "\n",
        "```cpp\n",
        "#include <iostream>\n",
        "using namespace std;\n",
        "\n",
        "int main() {\n",
        "    cout << \"Hola, Mundo desde C++ :)\" << endl;\n",
        "    return 0;\n",
        "}\n",
        "\n",
        "```\n",
        "> Para poder correr el código de C++ en este notebook, use Jupyter y por ello debo de guardarlo primero en un archivo temporal para las demostraciones.\n"
      ],
      "metadata": {
        "id": "umIPm-u4KgKB"
      }
    },
    {
      "cell_type": "code",
      "source": [
        "# Código para imprimir \"Hola, Mundo\" en C++\n",
        "code = \"\"\"\n",
        "#include <iostream>\n",
        "using namespace std;\n",
        "\n",
        "int main() {\n",
        "    cout << \"Hola Mundo desde C++ :)\" << endl;\n",
        "    return 0;\n",
        "}\n",
        "\"\"\"\n",
        "\n",
        "# Compilar y ejecutar\n",
        "with open(\"hello.cpp\", \"w\") as f:\n",
        "    f.write(code)\n",
        "\n",
        "!g++ hello.cpp -o hello\n",
        "!./hello\n"
      ],
      "metadata": {
        "colab": {
          "base_uri": "https://localhost:8080/",
          "height": 0
        },
        "id": "k7B8AL4uJDK5",
        "outputId": "5f2b7cd3-ba41-4e12-db3c-e60a1338ba87"
      },
      "execution_count": 20,
      "outputs": [
        {
          "output_type": "stream",
          "name": "stdout",
          "text": [
            "Hola Mundo desde C++ :)\n"
          ]
        }
      ]
    },
    {
      "cell_type": "markdown",
      "source": [
        "## Resumen\n",
        "---\n",
        "C++ es un lenguaje de programación potente y versátil creado en 1983 como una extensión de C. Se usa para desarrollar sistemas operativos, aplicaciones de alto rendimiento, y software científico, entre otros. Ofrece control y velocidad, a diferencia de la facilidad de uso de Python o la portabilidad de Java."
      ],
      "metadata": {
        "id": "zUTJ0Jip-yyB"
      }
    },
    {
      "cell_type": "markdown",
      "source": [
        "# Conceptos Básicos de C++\n",
        "---\n",
        "En esta sección, aprenderemos los fundamentos de C++, incluyendo variables, tipos de datos y estructuras de control.\n",
        "\n",
        "> C++ tiene características interesantes relacionadas con las variables, pero no incorpora conceptos específicos como inmutabilidad o shadowing de manera explícita, como en lenguajes como Rust. Sin embargo, hay maneras de lograr comportamientos similares.\n",
        "\n",
        "\n"
      ],
      "metadata": {
        "id": "fkOfsxlDVj8t"
      }
    },
    {
      "cell_type": "markdown",
      "source": [
        "## Variables y Tipos de Datos\n",
        "En C++, cada variable debe declararse con un tipo de dato. Ejemplo:\n",
        "- `int`: Números enteros.\n",
        "- `float`, `double`: Números con decimales.\n",
        "- `char`: Caracteres.\n",
        "- `string`: Cadenas de texto.\n",
        "\n",
        "\\\n",
        "La manera de asignar y declarar una variable es la siguiente:\n",
        "```cpp\n",
        "int numero = 42;\n",
        "double pi = 3.14;\n",
        "```\n",
        "\n",
        "\\\n",
        "Se le pueden agregar modificadores de tipo, como:\n",
        "\n",
        ">**const**: que hace que una variable sea inmutable\n",
        "\n",
        "```cpp\n",
        "const int valorConstante = 10;\n",
        "```\n",
        "\n",
        "> **mutable**: que permite modificar miembros especificos de un objeto constante\n",
        "\n",
        "```cpp\n",
        "struct Ejemplo {\n",
        "    mutable int contador;\n",
        "};\n",
        "```\n",
        "\n",
        "\\\n",
        "Y en cuanto a especificadores:\n",
        "> **auto**: que deduce automaticamente el tipo de la variable\n",
        "\n",
        "```cpp\n",
        "auto x = 10; // Inferido como int\n",
        "```\n",
        "\n",
        "> **static**: que hace que la variable persista entre llamadas a funciones\n",
        "\n",
        "```cpp\n",
        "void contador() {\n",
        "    static int num = 0; // Persiste entre llamadas\n",
        "    num++;\n",
        "}\n",
        "```\n",
        "\n",
        "\\\n",
        "En C++ se puede tener **shadowing** de variables dentro de un ámbito más interno, pero no se recomienda abusar de esta práctica por claridad del código.\n",
        "\n",
        "Estos serian los **Scopes** el cual una variable puede tener distintos ámbitos dependiendo del scope en donde este, siendo\n",
        "- *local*, que es que este dentro de funciones.\n",
        "- *global*, el cual es que esta declarada fuera de funciones.\n",
        "- *static*, que persiste en memoria hasta que termine el programa.\n",
        "\n",
        "```cpp\n",
        "#include <iostream>\n",
        "void ejemploShadowing() {\n",
        "    const int x = 10; // Variable inmutable\n",
        "    {\n",
        "        int x = 20; // Variable con shadowing\n",
        "        std::cout << \"Shadowed x: \" << x << \"\\n\"; // Imprime 20\n",
        "    }\n",
        "    std::cout << \"Original x: \" << x << \"\\n\"; // Imprime 10\n",
        "}\n",
        "\n",
        "int main() {\n",
        "    ejemploShadowing();\n",
        "    return 0;\n",
        "}\n",
        "```\n",
        "\n"
      ],
      "metadata": {
        "id": "YT-uDMVEh9gG"
      }
    },
    {
      "cell_type": "code",
      "source": [
        "code = \"\"\"\n",
        "# include <iostream>\n",
        "using namespace std;\n",
        "\n",
        "void ejemploShadowing() {\n",
        "    const int x = 10;\n",
        "    {\n",
        "        int x = 20; // Variable con shadowing\n",
        "        cout << \"Shadowed x: \" << x << endl;\n",
        "    }\n",
        "    cout << \"Original x: \" << x << endl;\n",
        "}\n",
        "\n",
        "int main() {\n",
        "    ejemploShadowing();\n",
        "    return 0;\n",
        "}\n",
        "\"\"\"\n",
        "\n",
        "# Compilar y ejecutar\n",
        "with open(\"scopes.cpp\", \"w\") as f:\n",
        "    f.write(code)\n",
        "\n",
        "!g++ scopes.cpp -o scopes\n",
        "!./scopes"
      ],
      "metadata": {
        "colab": {
          "base_uri": "https://localhost:8080/",
          "height": 0
        },
        "id": "BuuoHT10muaM",
        "outputId": "95812150-50f5-435e-c861-f1bd84dd19f7"
      },
      "execution_count": 34,
      "outputs": [
        {
          "output_type": "stream",
          "name": "stdout",
          "text": [
            "Shadowed x: 20\n",
            "Original x: 10\n"
          ]
        }
      ]
    },
    {
      "cell_type": "markdown",
      "source": [
        "## Modificadores de tipos de datos\n",
        "\n",
        "| **Tipo**          | **Descripción**                                   |\n",
        "|-------------------|---------------------------------------------------|\n",
        "| `signed`     | Permite representar tanto números positivos como negativos.|\n",
        "| `unsigned`    | Solo permite números no negativos, duplicando el rango de valores positivos que puede almacenar un tipo.|\n",
        "| `short`    | Reduce el tamaño de los enteros a la mitad de un `int` (usualmente 16 bits).|\n",
        "| `long`     | Amplía el tamaño de los enteros (generalmente 32 o 64 bits dependiendo del sistema).|\n",
        "| `long long`    | Usado para enteros aún más grandes (generalmente 64 bits en la mayoría de los sistemas).|\n",
        "| `volatile`     | Indica que el valor de una variable puede ser modificado fuera del control del programa, como cuando se usan variables compartidas en programación concurrente o acceso a hardware.|\n"
      ],
      "metadata": {
        "id": "dolcedi2z4le"
      }
    },
    {
      "cell_type": "markdown",
      "source": [
        "## Tipos Compuestos\n",
        "\n",
        "> **Tuple**: Introducida en C++11, permiten almacenar múltiples valores heterogéneos en una sola variable  --> ```std::tuple```\n",
        "\n",
        "```cpp\n",
        "#include <tuple>\n",
        "std::tuple<int, std::string> datos(42, \"Hola\");\n",
        "std::cout << std::get<1>(datos); // Imprime \"Hola\"\n",
        "```\n",
        "\n",
        "> **Array**: Contiene multiples eleemntos del mismo tipo, almacenados en posiciones contiguas de memoria.\n",
        "\n",
        "```cpp\n",
        "int numeros[3] = {1, 2, 3};\n",
        "std::cout << numeros[1]; // Imprime 2\n",
        "```\n",
        "\n",
        "> **Union**: Es un tipo de estructura especial que permite almacenar diferentes tipos de datos en el mismo espacio de memoria. Esto significa que solo uno de los miembros de la unión puede contener un valor valido a la vez.             \n",
        "Su uso está relacionado con escenarios de bajo nivel, como optimización de memoria.\n",
        "\n",
        "```cpp\n",
        "union Data {\n",
        "    int i;\n",
        "    float f;\n",
        "    char c;\n",
        "};\n",
        "\n",
        "int main() {\n",
        "    Data d;\n",
        "    \n",
        "    d.i = 10;  // Almacena un entero\n",
        "    cout << \"Entero: \" << d.i << endl;\n",
        "    \n",
        "    d.f = 3.14;  // Sobrescribe el entero con un flotante\n",
        "    cout << \"Flotante: \" << d.f << endl;\n",
        "    \n",
        "    d.c = 'A';  // Sobrescribe con un carácter\n",
        "    cout << \"Carácter: \" << d.c << endl;\n",
        "\n",
        "    // NOTA: Solo el último miembro establecido es válido.\n",
        "    return 0;\n",
        "}\n",
        "```\n",
        "\n"
      ],
      "metadata": {
        "id": "RCVBS-oLqeCh"
      }
    },
    {
      "cell_type": "markdown",
      "source": [
        "## Estructuras de Control\n",
        "\n",
        "\n",
        "C++ soporta estructuras como:\n",
        "- Condicionales (`if`, `else`, `switch`).\n",
        "- Ciclos (`for`, `while`, `do-while`).\n",
        "\n",
        "> Tiene tambien sixtaxis compacta para condiciones simples con el operador `? :`"
      ],
      "metadata": {
        "id": "OmRxaHUuh_3n"
      }
    },
    {
      "cell_type": "markdown",
      "source": [
        "### Ejemplo básico de variables y estructuras de control\n",
        "\n",
        "```cpp\n",
        "#include <iostream>\n",
        "using namespace std;\n",
        "\n",
        "int main() {\n",
        "    int edad = 25;\n",
        "    if (edad >= 18) {\n",
        "        cout << \"Eres mayor de edad.\" << endl;\n",
        "    } else {\n",
        "        cout << \"Eres menor de edad.\" << endl;\n",
        "    }\n",
        "\n",
        "    for (int i = 1; i <= 5; i++) {\n",
        "        cout << \"Iteración \" << i << endl;\n",
        "    }\n",
        "\n",
        "    return 0;\n",
        "}\n",
        "\n",
        "```"
      ],
      "metadata": {
        "id": "jK0ePFCwXYc8"
      }
    },
    {
      "cell_type": "code",
      "source": [
        "# Ejemplo básico de variables y estructuras de control\n",
        "code = \"\"\"\n",
        "#include <iostream>\n",
        "using namespace std;\n",
        "\n",
        "int main() {\n",
        "    cout << \"Interacción con condiconales: \";\n",
        "    int edad = 25;\n",
        "    if (edad >= 18) {\n",
        "        cout << \"Eres mayor de edad.\" << endl;\n",
        "    } else {\n",
        "        cout << \"Eres menor de edad.\" << endl;\n",
        "    }\n",
        "    cout << endl;\n",
        "    cout << \"Interacción con ciclos: \";\n",
        "    cout << endl;\n",
        "    for (int i = 1; i <= 5; i++) {\n",
        "        cout << \"Iteración \" << i << endl;\n",
        "    }\n",
        "\n",
        "    return 0;\n",
        "}\n",
        "\"\"\"\n",
        "\n",
        "# Compilar y ejecutar\n",
        "with open(\"basic.cpp\", \"w\") as f:\n",
        "    f.write(code)\n",
        "\n",
        "!g++ basic.cpp -o basic\n",
        "!./basic\n"
      ],
      "metadata": {
        "colab": {
          "base_uri": "https://localhost:8080/",
          "height": 0
        },
        "id": "9OBhwlXRXHBd",
        "outputId": "9223e9c7-d049-4fde-c725-39f80147eb09"
      },
      "execution_count": 19,
      "outputs": [
        {
          "output_type": "stream",
          "name": "stdout",
          "text": [
            "Interacción con condiconales: Eres mayor de edad.\n",
            "\n",
            "Interacción con ciclos: \n",
            "Iteración 1\n",
            "Iteración 2\n",
            "Iteración 3\n",
            "Iteración 4\n",
            "Iteración 5\n"
          ]
        }
      ]
    },
    {
      "cell_type": "markdown",
      "source": [
        "## Struct\n",
        "\n",
        "C++ tiene estructuras `struct` para definir tipos de datos personalizados, similares a Rust. Sin embargo, en C++ los miembros son públicos por defecto (a diferencia de `class`, donde son privados).\n",
        "\n",
        "```cpp\n",
        "struct Punto {\n",
        "    int x;\n",
        "    int y;\n",
        "};\n",
        "\n",
        "Punto p = {1, 2}; // Inicialización\n",
        "```\n",
        "> Las estructuras pueden incluir funciones miembro."
      ],
      "metadata": {
        "id": "XQACvqt56Rq-"
      }
    },
    {
      "cell_type": "markdown",
      "source": [
        "## Template\n",
        "\n",
        "Los **templates** son una característica poderosa de C++ que permite escribir código genérico, reutilizable y flexible. Pueden adaptarse a diferentes tipos de datos o clases sin duplicar el código.\n",
        "\n",
        "\\\n",
        "\n",
        "Tipos de template:\n",
        "\n",
        "- Function\n",
        "```cpp\n",
        "template <typename T>\n",
        "T add(T a, T b) {\n",
        "    return a + b;\n",
        "}\n",
        "int main() {\n",
        "    std::cout << add(3, 5) << std::endl;   // Para int\n",
        "    std::cout << add(3.2, 5.1) << std::endl; // Para double\n",
        "}\n",
        "```\n",
        "\n",
        "- Class\n",
        "```cpp\n",
        "template <typename T>\n",
        "class Box {\n",
        "private:\n",
        "    T value;\n",
        "public:\n",
        "    void setValue(T val) { value = val; }\n",
        "    T getValue() { return value; }\n",
        "};\n",
        "int main() {\n",
        "    Box<int> intBox;\n",
        "    intBox.setValue(42);\n",
        "    std::cout << intBox.getValue() << std::endl;\n",
        "}\n",
        "```\n",
        "\n",
        "- Specialization\n",
        "```cpp\n",
        "template <typename T>\n",
        "class Printer {\n",
        "public:\n",
        "    void print(T value) { std::cout << value << std::endl; }\n",
        "};\n",
        "template <>\n",
        "class Printer<bool> {  // Especialización para bool\n",
        "public:\n",
        "    void print(bool value) { std::cout << (value ? \"true\" : \"false\") << std::endl; }\n",
        "};\n",
        "```\n",
        "\n",
        "- Variadic  \n",
        "```cpp\n",
        "template <typename... Args>\n",
        "void print(Args... args) {\n",
        "    (std::cout << ... << args) << std::endl;  // Desempaquetado de argumentos\n",
        "}\n",
        "```\n",
        "\n"
      ],
      "metadata": {
        "id": "xs-ygGNCa2dZ"
      }
    },
    {
      "cell_type": "markdown",
      "source": [
        "## Enum\n",
        "\n",
        "C++ tiene enumeraciones `enum`, pero son menos potentes que las de Rust. Desde C++11, existe `enum class` para evitar problemas de ámbito (scoping).\n",
        "\n",
        "```cpp\n",
        "enum class Colores { Rojo, Verde, Azul };\n",
        "\n",
        "Colores c = Colores::Rojo;\n",
        "```\n",
        "\n",
        "\\\n",
        "\n",
        "> Tiene ciertas limitaciones como que no soportan variantes con datos asociados como en Rust.\n",
        "- Pero para lograr esto, se usa `std::variant` (disponible desde C++17).\n",
        "\n",
        "```cpp\n",
        "#include <variant>\n",
        "#include <iostream>\n",
        "\n",
        "std::variant<int, std::string> obtenerDato(bool usarTexto) {\n",
        "    if (usarTexto)\n",
        "        return \"Texto\";\n",
        "    else\n",
        "        return 42;\n",
        "}\n",
        "```\n",
        "\n"
      ],
      "metadata": {
        "id": "YAFG39nR65Tw"
      }
    },
    {
      "cell_type": "markdown",
      "source": [
        "## Resumen\n",
        "---\n",
        "1. **Variables y Tipos de Datos**:\n",
        "- Las variables almacenan datos y deben declararse con un tipo (int, float, char, string, etc.).\n",
        "- C++ tiene tipos escalares (enteros, flotantes, booleanos, caracteres) y compuestos (arrays, estructuras, uniones).\n",
        "\n",
        "\\\n",
        "\n",
        "2. **Estructuras de Control**:\n",
        "- Controlan el flujo del programa: if, else, switch (condicionales), for, while, do-while (ciclos).\n",
        "\n",
        "\\\n",
        "\n",
        "3. **Estructuras**:\n",
        "- `struct` define tipos de datos personalizados con miembros públicos por defecto.\n",
        "- `template`permiten escribir código genérico y reutilizable, adaptándose a diferentes tipos de datos y mejorando la flexibilidad y eficiencia del código sin duplicarlo.\n",
        "\n",
        "\n",
        "4. **Enumeraciones**:\n",
        "- `enum` define un conjunto de valores constantes.\n",
        "\n",
        "\\"
      ],
      "metadata": {
        "id": "wokDximU8rWe"
      }
    },
    {
      "cell_type": "markdown",
      "source": [
        "# Gestión de Datos y Funciones\n",
        "---\n",
        "A continuación, exploraremos temas como funciones, clases y manejo de memoria.\n",
        "\n",
        "> En C++, referencias, funciones sobre referencias, métodos y traits son conceptos fundamentales que te permiten trabajar con los datos de manera eficiente, facilitando la manipulación de objetos sin la necesidad de realizar copias costosas y sin sacrificar la flexibilidad.\n"
      ],
      "metadata": {
        "id": "mHHJTtIzYpU0"
      }
    },
    {
      "cell_type": "markdown",
      "source": [
        "## Referencias\n",
        "\n",
        "Las **referencias** en C++ permiten crear alias de una variable existente. Esto es útil cuando se quiere trabajar con una variable sin hacer una copia de ella.\n",
        "\n",
        "Las referencias son similares a los punteros, pero tienen una sintaxis más sencilla y no pueden ser `nulas`.\n",
        "\n",
        "> Estas pueden ser de dos tipos:\n",
        "- **Referencias `lvalues`**: Estas refieren a una ubicacion de memoria, y  la variable original puede ser modificada.\n",
        "- **Referencias `rvalues`**: Permiten trabajar con valores temporales, lo cual es útil para la optimización de recursos y movimientos en lugar de copias (usando `move semantics`).\n",
        "\n",
        "\\\n",
        "\n",
        "En este ejemplo, `ref` es una referencia lvalue a `a`. Cuando se modifica `ref`, también se modifica el valor de `a`, ya que ambos apuntan a la misma ubicación de memoria.\n",
        "```cpp\n",
        "int a = 10;    // Variable 'a'\n",
        "int& ref = a;  // 'ref' es una referencia lvalue a 'a'\n",
        "    \n",
        "ref = 20;  // Modifica directamente 'a' a través de la referencia\n",
        "    \n",
        "cout << \"Valor de a: \" << a << endl;  // Imprime 20\n",
        "cout << \"Valor de ref: \" << ref << endl;  // Imprime 20\n",
        "```\n",
        "\n",
        "\\\n",
        "\n",
        "En este ejemplo, `ref`  es una referencia rvalue a un valor temporal `5`.\n",
        "```cpp\n",
        "int&& ref = 5;  // 'ref' es una referencia rvalue al valor temporal '5'\n",
        "    \n",
        "cout << \"Valor de ref: \" << ref << endl;  // Imprime 5\n",
        "    \n",
        "ref = 10;  // Asigna un nuevo valor a la referencia rvalue\n",
        "cout << \"Nuevo valor de ref: \" << ref << endl;  // Imprime 10\n",
        "```"
      ],
      "metadata": {
        "id": "GcToXD6iAVEN"
      }
    },
    {
      "cell_type": "markdown",
      "source": [
        "## Funciones sobre Referencias\n",
        "\n",
        "Cuando se pasan argumentos por referencia a una función, la función puede modificar directamente el valor del argumento original. Este enfoque es más eficiente en términos de memoria porque no requiere copiar los datos, especialmente cuando se pasan estructuras grandes como arreglos o clases.\n",
        "\n",
        "\\\n",
        "\n",
        "Aquí, `duplicar()` modifica el valor de `a` directamente, sin hacer una copia de él.\n",
        "\n",
        "```cpp\n",
        "void duplicar(int& x) {\n",
        "    x *= 2;\n",
        "}\n",
        "\n",
        "int main() {\n",
        "    int a = 10;\n",
        "    duplicar(a);  // Pasa 'a' por referencia\n",
        "    cout << a << endl;  // Imprime 20\n",
        "    return 0;\n",
        "}\n",
        "```"
      ],
      "metadata": {
        "id": "JZK1lqeyDnev"
      }
    },
    {
      "cell_type": "markdown",
      "source": [
        "## Métodos\n",
        "\n",
        "En C++, un **método** es una función que está asociada con un objeto o clase. Los métodos pueden ser **constantes** (no modifican el estado del objeto) y pueden ser llamados en una instancia de clase o como métodos estáticos. Además, pueden tener acceso a las variables de instancia de la clase a través de la palabra clave `this`.\n",
        "\n",
        "\\\n",
        "\n",
        "En este caso, el método`saludar()` es parte de la clase `Persona` y accede a la propiedad `nombre`.\n",
        "\n",
        "```cpp\n",
        "#include <iostream>\n",
        "using namespace std;\n",
        "\n",
        "class Persona {\n",
        "private:\n",
        "    string nombre;\n",
        "public:\n",
        "    Persona(string n) : nombre(n) {}\n",
        "\n",
        "    void saludar() const {\n",
        "        cout << \"Hola, soy \" << nombre << endl;\n",
        "    }\n",
        "};\n",
        "\n",
        "int main() {\n",
        "    Persona p(\"Juan\");\n",
        "    p.saludar();  // Llama al método saludar()\n",
        "    return 0;\n",
        "}\n",
        "```"
      ],
      "metadata": {
        "id": "Vhu1_NEnEEHL"
      }
    },
    {
      "cell_type": "code",
      "source": [
        "code = \"\"\"\n",
        "#include <iostream>\n",
        "using namespace std;\n",
        "\n",
        "class Persona {\n",
        "private:\n",
        "    string nombre;\n",
        "public:\n",
        "    Persona(string n) : nombre(n) {}\n",
        "\n",
        "    void saludar() const {\n",
        "        cout << \"Hola, soy \" << nombre << endl;\n",
        "    }\n",
        "};\n",
        "\n",
        "int main() {\n",
        "    Persona p(\"Juan\");\n",
        "    p.saludar();  // Llama al método saludar()\n",
        "    return 0;\n",
        "}\n",
        "\"\"\"\n",
        "\n",
        "# Compilar y ejecutar\n",
        "with open(\"class.cpp\", \"w\") as f:\n",
        "    f.write(code)\n",
        "\n",
        "!g++ class.cpp -o class\n",
        "!./class\n"
      ],
      "metadata": {
        "colab": {
          "base_uri": "https://localhost:8080/"
        },
        "id": "LLt5MiCoY_iJ",
        "outputId": "2654b2a7-1664-485c-bc3e-334daea9a2f4"
      },
      "execution_count": 1,
      "outputs": [
        {
          "output_type": "stream",
          "name": "stdout",
          "text": [
            "Hola, soy Juan\n"
          ]
        }
      ]
    },
    {
      "cell_type": "markdown",
      "source": [
        "## Clases genéricas ~ Traits  \n",
        "\n",
        "En C++, los **traits** son una técnica utilizada para crear clases genéricas (plantillas de clases o funciones) que pueden realizar ciertas operaciones dependiendo del tipo con el que se usen. A menudo se usan junto con la programación genérica para definir características o propiedades de tipos.\n",
        "\n",
        "\n",
        "Un **trait** es típicamente una estructura o clase con una serie de funciones estáticas que definen comportamientos específicos que se pueden usar con diferentes tipos. Los traits permiten personalizar el comportamiento de las plantillas de clases sin necesidad de duplicar código.\n",
        "\n",
        "No es como en Rust que se tiene una palabra reservada para ellos, sino que en C++ es más bien el concepto.\n",
        "\\\n",
        "\n",
        "En este ejemplo, el trait `es_entero` tiene una especialización para el tipo int, lo que permite verificar si un tipo es un tipo entero.\n",
        "\n",
        "```cpp\n",
        "#include <iostream>\n",
        "#include <type_traits>\n",
        "\n",
        "template<typename T>\n",
        "struct es_entero {\n",
        "    static const bool valor = false;\n",
        "};\n",
        "\n",
        "template<>\n",
        "struct es_entero<int> {\n",
        "    static const bool valor = true;\n",
        "};\n",
        "\n",
        "int main() {\n",
        "    std::cout << es_entero<int>::valor << std::endl;  // Imprime 1\n",
        "    std::cout << es_entero<double>::valor << std::endl;  // Imprime 0\n",
        "    return 0;\n",
        "}\n",
        "\n",
        "```"
      ],
      "metadata": {
        "id": "M0BXug_uboaU"
      }
    },
    {
      "cell_type": "code",
      "source": [
        "code = \"\"\"\n",
        "# include <iostream>\n",
        "# include <type_traits>\n",
        "\n",
        "template<typename T>\n",
        "struct es_entero {\n",
        "    static const bool valor = false;\n",
        "};\n",
        "\n",
        "template<>\n",
        "struct es_entero<int> {\n",
        "    static const bool valor = true;\n",
        "};\n",
        "\n",
        "int main() {\n",
        "    std::cout << es_entero<int>::valor << std::endl;  // Imprime 1\n",
        "    std::cout << es_entero<double>::valor << std::endl;  // Imprime 0\n",
        "    return 0;\n",
        "}\n",
        "\"\"\"\n",
        "\n",
        "# Compilar y ejecutar\n",
        "with open(\"trait.cpp\", \"w\") as f:\n",
        "    f.write(code)\n",
        "\n",
        "!g++ trait.cpp -o trait\n",
        "!./trait"
      ],
      "metadata": {
        "colab": {
          "base_uri": "https://localhost:8080/"
        },
        "id": "kiQ8Eb7eb_Hk",
        "outputId": "ec3b1cbb-be5f-497f-c228-b38a4d4adbe2"
      },
      "execution_count": 2,
      "outputs": [
        {
          "output_type": "stream",
          "name": "stdout",
          "text": [
            "1\n",
            "0\n"
          ]
        }
      ]
    },
    {
      "cell_type": "markdown",
      "source": [
        "### Herencia de Traits\n",
        "\n",
        "C++ ofrece capacidades de herencia a través de clases base y interfaces (abstract base classes), que pueden simular un comportamiento similar al de los traits en otros lenguajes, aunque no de manera tan directa.\n",
        "\n",
        "\n",
        "```cpp\n",
        "class Movimiento {\n",
        "public:\n",
        "    virtual void moverse() = 0; // Método virtual puro\n",
        "};\n",
        "\n",
        "class Animal : public Movimiento {\n",
        "public:\n",
        "    void moverse() override {\n",
        "        cout << \"El animal se mueve\" << endl;\n",
        "    }\n",
        "};\n",
        "\n",
        "class Vehiculo : public Movimiento {\n",
        "public:\n",
        "    void moverse() override {\n",
        "        cout << \"El vehiculo se desplaza\" << endl;\n",
        "    }\n",
        "};\n",
        "\n",
        "int main() {\n",
        "    Animal animal;\n",
        "    Vehiculo vehiculo;\n",
        "    \n",
        "    animal.moverse();   // Salida: El animal se mueve\n",
        "    vehiculo.moverse(); // Salida: El vehiculo se desplaza\n",
        "    \n",
        "    return 0;\n",
        "}\n",
        "\n",
        "```\n",
        "\n"
      ],
      "metadata": {
        "id": "JilU83tqerL9"
      }
    },
    {
      "cell_type": "code",
      "source": [
        "code = \"\"\"\n",
        "# include <iostream>\n",
        "using namespace std;\n",
        "\n",
        "class Movimiento {\n",
        "public:\n",
        "    virtual void moverse() = 0; // Método virtual puro\n",
        "};\n",
        "\n",
        "class Animal : public Movimiento {\n",
        "public:\n",
        "    void moverse() override {\n",
        "        cout << \"El animal se mueve\" << endl;\n",
        "    }\n",
        "};\n",
        "\n",
        "class Vehiculo : public Movimiento {\n",
        "public:\n",
        "    void moverse() override {\n",
        "        cout << \"El vehiculo se desplaza\" << endl;\n",
        "    }\n",
        "};\n",
        "\n",
        "int main() {\n",
        "    Animal animal;\n",
        "    Vehiculo vehiculo;\n",
        "\n",
        "    animal.moverse();   // Salida: El animal se mueve\n",
        "    vehiculo.moverse(); // Salida: El vehiculo se desplaza\n",
        "\n",
        "    return 0;\n",
        "}\n",
        "\"\"\"\n",
        "\n",
        "# Compilar y ejecutar\n",
        "with open(\"traitHer.cpp\", \"w\") as f:\n",
        "    f.write(code)\n",
        "\n",
        "!g++ traitHer.cpp -o traitHer\n",
        "!./traitHer"
      ],
      "metadata": {
        "colab": {
          "base_uri": "https://localhost:8080/"
        },
        "id": "BasEBj5eeqyf",
        "outputId": "a13ed204-0fc9-4bce-f489-effd4e032a69"
      },
      "execution_count": 3,
      "outputs": [
        {
          "output_type": "stream",
          "name": "stdout",
          "text": [
            "El animal se mueve\n",
            "El vehiculo se desplaza\n"
          ]
        }
      ]
    },
    {
      "cell_type": "markdown",
      "source": [
        "## Resumen\n",
        "---\n",
        "\n",
        "1. **Referencias**:\n",
        "- Permiten acceder a datos sin copiarlos.\n",
        "- Hay dos tipos: inmutables (no permiten modificar el valor) y mutables (sí lo permiten).\n",
        "\n",
        "\\\n",
        "\n",
        "2.  **Funciones sobre Referencias**:\n",
        "- Se pasan variables a funciones mediante referencias para evitar copias. Las referencias mutables permiten modificar los valores dentro de la función.\n",
        "\n",
        "\\\n",
        "\n",
        "3. **Métodos**:\n",
        "- Son funciones asociadas a clases u objetos.\n",
        "- Pueden ser estáticos o no y permiten operar sobre los miembros de una clase.\n",
        "\n",
        "\\\n",
        "\n",
        "4. **Traits**:\n",
        "- En C++, no existen traits como en Rust, pero se pueden simular mediante clases abstractas, que definen métodos que las clases derivadas deben implementar.\n",
        "\n",
        "\\"
      ],
      "metadata": {
        "id": "bJwBfiQkgB8T"
      }
    },
    {
      "cell_type": "markdown",
      "source": [
        "# Collections"
      ],
      "metadata": {
        "id": "K0fg-R1zOQ49"
      }
    },
    {
      "cell_type": "markdown",
      "source": [
        "## Vector\n",
        "\n",
        "C++ tiene `std::vector` en la biblioteca estándar (`<vector>`), que es un contenedor dinámico que ajusta automáticamente su tamaño al agregar o eliminar elementos.\n",
        "\n",
        "- Tamaño dinámico.\n",
        "- Acceso a elementos en tiempo constante.\n",
        "- Gestión automática de memoria\n",
        "- Iteradores compatibles con algoritmos de la STL (Standard Template Library).\n",
        "\n",
        "> STL es una de las principales bibliotecas estándar de C++ diseñada para facilitar la manipulación de datos mediante estructuras y algoritmos genéricos.\n",
        "\n",
        "\n",
        "\n",
        "```cpp\n",
        "std::vector<int> numbers = {0, 1, 2, 3, 4, 5}; // Inicialización directa\n",
        "\n",
        "// Agregar elementos\n",
        "numbers.push_back(6);\n",
        "numbers.push_back(7);\n",
        "\n",
        "// Acceder a elementos\n",
        "std::cout << \"El primer elemento es: \" << numbers[0] << std::endl;\n",
        "\n",
        "// Recorrer con bucle\n",
        "std::cout << \"Elementos del vector: \";\n",
        "for (int n : numbers) {\n",
        "    std::cout << n << \" \";\n",
        "}\n",
        "std::cout << std::endl;\n",
        "\n",
        "// Tamaño del vector\n",
        "std::cout << \"Tamaño del vector: \" << numbers.size() << std::endl;\n",
        "\n",
        "```\n",
        "\n"
      ],
      "metadata": {
        "id": "J35Sn_ZqPDCo"
      }
    },
    {
      "cell_type": "code",
      "source": [
        "code = \"\"\"\n",
        "#include <iostream>\n",
        "#include <vector>\n",
        "\n",
        "int main() {\n",
        "    std::vector<int> numbers = {0, 1, 2, 3, 4, 5}; // Inicialización directa\n",
        "\n",
        "    // Agregar elementos\n",
        "    numbers.push_back(6);\n",
        "    numbers.push_back(7);\n",
        "\n",
        "    // Acceder a elementos\n",
        "    std::cout << \"El primer elemento es: \" << numbers[0] << std::endl;\n",
        "\n",
        "    // Recorrer con bucle\n",
        "    std::cout << \"Elementos del vector: \";\n",
        "    for (int n : numbers) {\n",
        "        std::cout << n << \" \";\n",
        "    }\n",
        "    std::cout << std::endl;\n",
        "\n",
        "    // Tamaño del vector\n",
        "    std::cout << \"Tamaño del vector: \" << numbers.size() << std::endl;\n",
        "\n",
        "    return 0;\n",
        "}\n",
        "\n",
        "\"\"\"\n",
        "\n",
        "# Compilar y ejecutar\n",
        "with open(\"vector.cpp\", \"w\") as f:\n",
        "    f.write(code)\n",
        "\n",
        "!g++ vector.cpp -o vector\n",
        "!./vector"
      ],
      "metadata": {
        "colab": {
          "base_uri": "https://localhost:8080/"
        },
        "id": "2VDBhpS4Pihv",
        "outputId": "1653f15e-3cb9-472a-cc7a-e7e9e8cfd3a7"
      },
      "execution_count": 2,
      "outputs": [
        {
          "output_type": "stream",
          "name": "stdout",
          "text": [
            "El primer elemento es: 0\n",
            "Elementos del vector: 0 1 2 3 4 5 6 7 \n",
            "Tamaño del vector: 8\n"
          ]
        }
      ]
    },
    {
      "cell_type": "markdown",
      "source": [
        "***Operaciones comunes***\n",
        "\n",
        "Inserción y eliminación:\n",
        "\n",
        "- `push_back(value)`: Añade un elemento al final.\n",
        "- `pop_back()`: Elimina el último elemento.\n",
        "- `insert(pos, value)`: Inserta un elemento en una posición específica.\n",
        "- `std::views::drop`: Omite los primeros n elementos.\n",
        "- `erase(pos)`: Elimina un elemento en una posición específica.\n",
        "\n",
        "Información sobre el tamaño:\n",
        "\n",
        "- `size()`: Retorna el número de elementos.\n",
        "- `capacity()`: Retorna la capacidad del contenedor (memoria asignada).\n",
        "\n",
        "\n",
        "Acceso:\n",
        "\n",
        "- `operator[]`: Accede a un elemento por índice.\n",
        "- `at(index)`: Similar a `[]`, pero lanza una excepción si el índice está fuera de rango.\n",
        "\n",
        "\n",
        "Redimensionamiento:\n",
        "\n",
        "- `resize(new_size)`: Cambia el tamaño del vector.\n",
        "- `clear()`: Elimina todos los elementos.\n",
        "\n",
        "\\\n",
        "\n",
        "```cpp\n",
        "#include <iostream>\n",
        "#include <vector>\n",
        "\n",
        "void printVector(const std::vector<int>& vec) {\n",
        "    for (int val : vec) {\n",
        "        std::cout << val << \" \";\n",
        "    }\n",
        "    std::cout << std::endl;\n",
        "}\n",
        "\n",
        "int main() {\n",
        "    std::vector<int> dynamicVector;\n",
        "\n",
        "    // Redimensionar y llenar el vector\n",
        "    dynamicVector.resize(5, 10); // Vector de tamaño 5, inicializado con 10\n",
        "    printVector(dynamicVector);\n",
        "\n",
        "    // Añadir elementos dinámicamente\n",
        "    for (int i = 1; i <= 5; ++i) {\n",
        "        dynamicVector.push_back(i * 2);\n",
        "    }\n",
        "    printVector(dynamicVector);\n",
        "\n",
        "    // Eliminar elementos\n",
        "    dynamicVector.pop_back();\n",
        "    dynamicVector.erase(dynamicVector.begin());\n",
        "    printVector(dynamicVector);\n",
        "\n",
        "    // Mostrar capacidad\n",
        "    std::cout << \"Tamaño: \" << dynamicVector.size()\n",
        "              << \", Capacidad: \" << dynamicVector.capacity() << std::endl;\n",
        "\n",
        "    return 0;\n",
        "}\n",
        "\n",
        "\n",
        "```\n",
        "\n"
      ],
      "metadata": {
        "id": "isqJSB0A8I__"
      }
    },
    {
      "cell_type": "code",
      "source": [
        "code = \"\"\"\n",
        "#include <iostream>\n",
        "#include <vector>\n",
        "\n",
        "void printVector(const std::vector<int>& vec) {\n",
        "    for (int val : vec) {\n",
        "        std::cout << val << \" \";\n",
        "    }\n",
        "    std::cout << std::endl;\n",
        "}\n",
        "\n",
        "int main() {\n",
        "    std::vector<int> dynamicVector;\n",
        "\n",
        "    // Redimensionar y llenar el vector\n",
        "    dynamicVector.resize(5, 10); // Vector de tamaño 5, inicializado con 10\n",
        "    printVector(dynamicVector);\n",
        "\n",
        "    // Añadir elementos dinámicamente\n",
        "    for (int i = 1; i <= 5; ++i) {\n",
        "        dynamicVector.push_back(i * 2);\n",
        "    }\n",
        "    printVector(dynamicVector);\n",
        "\n",
        "    // Eliminar elementos\n",
        "    dynamicVector.pop_back();\n",
        "    dynamicVector.erase(dynamicVector.begin());\n",
        "    printVector(dynamicVector);\n",
        "\n",
        "    // Mostrar capacidad\n",
        "    std::cout << \"Tamaño: \" << dynamicVector.size()\n",
        "              << \", Capacidad: \" << dynamicVector.capacity() << std::endl;\n",
        "\n",
        "    return 0;\n",
        "}\n",
        "\"\"\"\n",
        "\n",
        "# Compilar y ejecutar\n",
        "with open(\"vectorMem.cpp\", \"w\") as f:\n",
        "    f.write(code)\n",
        "\n",
        "!g++ vectorMem.cpp -o vectorMem\n",
        "!./vectorMem"
      ],
      "metadata": {
        "colab": {
          "base_uri": "https://localhost:8080/"
        },
        "id": "ehtj-muo8O3X",
        "outputId": "66006fb5-f076-45ad-bd20-af3e8ffb2efa"
      },
      "execution_count": 3,
      "outputs": [
        {
          "output_type": "stream",
          "name": "stdout",
          "text": [
            "10 10 10 10 10 \n",
            "10 10 10 10 10 2 4 6 8 10 \n",
            "10 10 10 10 2 4 6 8 \n",
            "Tamaño: 8, Capacidad: 10\n"
          ]
        }
      ]
    },
    {
      "cell_type": "markdown",
      "source": [
        "## View\n",
        "\n",
        "Un `view` es una abstracción que permite trabajar con una vista no materializada (o una \"proyección\") de una colección de datos, en lugar de copiar o almacenar los datos en memoria. Esto hace que las operaciones sobre colecciones sean más eficientes y expresivas.\n",
        "\n",
        "- **No materializan datos**: Las views no contienen los datos propiamente dichos, sino que operan sobre un contenedor subyacente.\n",
        "- **Lazy evaluation (evaluación diferida)**: Las operaciones en una view se ejecutan solo cuando se consumen los datos, lo que optimiza el rendimiento.\n",
        "- **Encadenamiento**: Las views permiten combinar múltiples operaciones en un solo flujo sin crear estructuras intermedias.\n",
        "- **Compatibilidad con iteradores**: Se integran con los iteradores para recorrer y manipular los datos.\n",
        "\n",
        "\n",
        "```cpp\n",
        "std::vector<int> numbers = {1, 2, 3, 4, 5, 6, 7, 8, 9, 10};\n",
        "\n",
        "// Crear una vista con los números pares\n",
        "auto even_numbers = numbers | std::views::filter([](int n) { return n % 2 == 0; });\n",
        "\n",
        "// Imprimir los números pares\n",
        "std::cout << \"Números pares: \";\n",
        "for (int n : even_numbers) {\n",
        "    std::cout << n << \" \";\n",
        "}\n",
        "```"
      ],
      "metadata": {
        "id": "22s3raHYQUXw"
      }
    },
    {
      "cell_type": "code",
      "source": [
        "code = \"\"\"\n",
        "#include <iostream>\n",
        "#include <vector>\n",
        "#include <ranges> // Para views\n",
        "\n",
        "int main() {\n",
        "    std::vector<int> numbers = {1, 2, 3, 4, 5, 6, 7, 8, 9, 10};\n",
        "\n",
        "    // Crear una vista con los números pares\n",
        "    auto even_numbers = numbers | std::views::filter([](int n) { return n % 2 == 0; });\n",
        "\n",
        "    // Imprimir los números pares\n",
        "    std::cout << \"Números pares: \";\n",
        "    for (int n : even_numbers) {\n",
        "        std::cout << n << \" \";\n",
        "    }\n",
        "    std::cout << std::endl;\n",
        "\n",
        "    return 0;\n",
        "}\n",
        "\"\"\"\n",
        "\n",
        "# Compilar y ejecutar\n",
        "with open(\"view.cpp\", \"w\") as f:\n",
        "    f.write(code)\n",
        "\n",
        "!g++ -std=c++20 -o view view.cpp\n",
        "!./view\n"
      ],
      "metadata": {
        "colab": {
          "base_uri": "https://localhost:8080/"
        },
        "id": "8pocx_E6SmHe",
        "outputId": "1fc9168f-c230-430b-c63f-dbb952d8c273"
      },
      "execution_count": 14,
      "outputs": [
        {
          "output_type": "stream",
          "name": "stdout",
          "text": [
            "Números pares: 2 4 6 8 10 \n"
          ]
        }
      ]
    },
    {
      "cell_type": "markdown",
      "source": [
        "***Operaciones comunes***\n",
        "\n",
        "- `std::views::filter`: Filtra elementos según un predicado.\n",
        "- `std::views::transform`: Aplica una transformación a cada elemento.\n",
        "- `std::views::take`: Selecciona los primeros n elementos.\n",
        "- `std::views::drop`: Omite los primeros n elementos.\n",
        "- `std::views::reverse`: Invierte el orden de los elementos.\n",
        "\n",
        "\n",
        "```cpp\n",
        "#include <iostream>\n",
        "#include <vector>\n",
        "#include <ranges>\n",
        "\n",
        "int main() {\n",
        "    std::vector<int> numbers = {1, 2, 3, 4, 5, 6, 7, 8, 9, 10};\n",
        "\n",
        "    // Combinar varias vistas\n",
        "    auto result = numbers\n",
        "                  | std::views::filter([](int n) { return n % 2 == 0; })\n",
        "                  | std::views::transform([](int n) { return n * n; });\n",
        "\n",
        "    // Imprimir el resultado\n",
        "    std::cout << \"Cuadrados de números pares: \";\n",
        "    for (int n : result) {\n",
        "        std::cout << n << \" \";\n",
        "    }\n",
        "    std::cout << std::endl;\n",
        "\n",
        "    return 0;\n",
        "}\n",
        "\n",
        "```\n",
        "\n"
      ],
      "metadata": {
        "id": "ZfgB3ssWTWVt"
      }
    },
    {
      "cell_type": "code",
      "source": [
        "code = \"\"\"\n",
        "#include <iostream>\n",
        "#include <vector>\n",
        "#include <ranges>\n",
        "\n",
        "int main() {\n",
        "    std::vector<int> numbers = {1, 2, 3, 4, 5, 6, 7, 8, 9, 10};\n",
        "\n",
        "    // Combinar varias vistas\n",
        "    auto result = numbers\n",
        "                  | std::views::filter([](int n) { return n % 2 == 0; })\n",
        "                  | std::views::transform([](int n) { return n * n; });\n",
        "\n",
        "    // Imprimir el resultado\n",
        "    std::cout << \"Cuadrados de números pares: \";\n",
        "    for (int n : result) {\n",
        "        std::cout << n << \" \";\n",
        "    }\n",
        "    std::cout << std::endl;\n",
        "\n",
        "    return 0;\n",
        "}\n",
        "\"\"\"\n",
        "\n",
        "# Compilar y ejecutar\n",
        "with open(\"views.cpp\", \"w\") as f:\n",
        "    f.write(code)\n",
        "\n",
        "!g++ -std=c++20 -o views views.cpp\n",
        "!./views\n"
      ],
      "metadata": {
        "colab": {
          "base_uri": "https://localhost:8080/"
        },
        "id": "u7mq03bxT-CX",
        "outputId": "303514e6-4362-4384-a472-bb3c51318265"
      },
      "execution_count": 15,
      "outputs": [
        {
          "output_type": "stream",
          "name": "stdout",
          "text": [
            "Cuadrados de números pares: 4 16 36 64 100 \n"
          ]
        }
      ]
    },
    {
      "cell_type": "markdown",
      "source": [
        "## Iterators\n",
        "\n",
        "Un iterador es un objeto que actúa como un puntero generalizado, permitiendo recorrer los elementos de un contenedor, como `std::vector`, `std::list`, `std::map`, de manera uniforme y eficiente, independientemente de la estructura interna del contenedor.\n",
        "\n",
        "Esto es que el tipo `::iterator` es una parte integral de muchos contenedores de la Standard Template Library (STL) en C++ como los anteriores mencionados. El cual está definido dentro de cada clase de contenedor como un alias que representa el tipo del iterador asociado al contenedor.\n",
        "\n",
        "\n",
        "```cpp\n",
        "#include <iostream>\n",
        "#include <vector>\n",
        "\n",
        "int main() {\n",
        "    std::vector<int> numbers = {10, 20, 30, 40, 50};\n",
        "\n",
        "    // Uso de iteradores para recorrer el vector\n",
        "    for (std::vector<int>::iterator it = numbers.begin(); it != numbers.end(); ++it) {\n",
        "        std::cout << *it << \" \";\n",
        "    }\n",
        "    std::cout << std::endl;\n",
        "\n",
        "    return 0;\n",
        "}\n",
        "\n",
        "```\n",
        "\n"
      ],
      "metadata": {
        "id": "uaV7JGZo98yR"
      }
    },
    {
      "cell_type": "code",
      "source": [
        "code = \"\"\"\n",
        "#include <iostream>\n",
        "#include <vector>\n",
        "\n",
        "int main() {\n",
        "    std::vector<int> numbers = {10, 20, 30, 40, 50};\n",
        "\n",
        "    // Uso de iteradores para recorrer el vector\n",
        "    for (std::vector<int>::iterator it = numbers.begin(); it != numbers.end(); ++it) {\n",
        "        std::cout << *it << \" \";\n",
        "    }\n",
        "    std::cout << std::endl;\n",
        "\n",
        "    return 0;\n",
        "}\n",
        "\n",
        "\"\"\"\n",
        "\n",
        "# Compilar y ejecutar\n",
        "with open(\"iter.cpp\", \"w\") as f:\n",
        "    f.write(code)\n",
        "\n",
        "!g++ -std=c++20 -o iter iter.cpp\n",
        "!./iter"
      ],
      "metadata": {
        "colab": {
          "base_uri": "https://localhost:8080/"
        },
        "id": "mc8yudd6-DqG",
        "outputId": "3d700b9a-5e53-4e06-bf80-bd1b6a297c8c"
      },
      "execution_count": 4,
      "outputs": [
        {
          "output_type": "stream",
          "name": "stdout",
          "text": [
            "10 20 30 40 50 \n"
          ]
        }
      ]
    },
    {
      "cell_type": "markdown",
      "source": [
        "Se tiene tambien **Iteradores constantes** `::const_iterator` que garantiza que no se modifiquen los datos del contenedor mientras se este iterando sobre él.\n",
        "\n",
        "```cpp\n",
        "std::vector<int>::const_iterator it;\n",
        "for (it = vec.cbegin(); it != vec.cend(); ++it) {\n",
        "    std::cout << *it << \" \";\n",
        "}\n",
        "```\n"
      ],
      "metadata": {
        "id": "YyaiDhVeAs7D"
      }
    },
    {
      "cell_type": "markdown",
      "source": [
        "## Map y HashMap\n",
        "\n",
        "Estos se encuentran en la STL con las implementaciones `std::map`y `std::unordered_map`.\n",
        "\n",
        "\\\n",
        "\n",
        "**`std::map`** es un contenedor que implementa un árbol binario balanceado, donde las claves estan ordenadas automáticamente según su valor utilizando `<` por defecto o un comparador personalizado.\n",
        "\n",
        "\n",
        "\n",
        "```cpp\n",
        "#include <iostream>\n",
        "#include <map>\n",
        "\n",
        "int main() {\n",
        "    std::map<int, std::string> map;\n",
        "\n",
        "    // Insertar elementos\n",
        "    map[1] = \"uno\";\n",
        "    map[2] = \"dos\";\n",
        "    map[3] = \"tres\";\n",
        "\n",
        "    // Acceder a un elemento\n",
        "    std::cout << \"Clave 2: \" << map[2] << std::endl;\n",
        "\n",
        "    // Recorrer el mapa\n",
        "    for (const auto& pair : map) {\n",
        "        std::cout << \"Clave: \" << pair.first << \", Valor: \" << pair.second << std::endl;\n",
        "    }\n",
        "\n",
        "    return 0;\n",
        "}\n",
        "\n",
        "```\n",
        "\n"
      ],
      "metadata": {
        "id": "NgrZYWya-XIq"
      }
    },
    {
      "cell_type": "code",
      "source": [
        "code = \"\"\"\n",
        "#include <iostream>\n",
        "#include <map>\n",
        "\n",
        "int main() {\n",
        "    std::map<int, std::string> map;\n",
        "\n",
        "    // Insertar elementos\n",
        "    map[1] = \"uno\";\n",
        "    map[2] = \"dos\";\n",
        "    map[3] = \"tres\";\n",
        "\n",
        "    // Acceder a un elemento\n",
        "    std::cout << \"Clave 2: \" << map[2] << std::endl;\n",
        "\n",
        "    // Recorrer el mapa\n",
        "    for (const auto& pair : map) {\n",
        "        std::cout << \"Clave: \" << pair.first << \", Valor: \" << pair.second << std::endl;\n",
        "    }\n",
        "\n",
        "    return 0;\n",
        "}\n",
        "\n",
        "\"\"\"\n",
        "\n",
        "# Compilar y ejecutar\n",
        "with open(\"map.cpp\", \"w\") as f:\n",
        "    f.write(code)\n",
        "\n",
        "!g++ -std=c++20 -o map map.cpp\n",
        "!./map"
      ],
      "metadata": {
        "colab": {
          "base_uri": "https://localhost:8080/"
        },
        "id": "kOg0QMuq_hAt",
        "outputId": "c18e2cc6-78b2-4273-ba0d-94a3b1062daf"
      },
      "execution_count": 6,
      "outputs": [
        {
          "output_type": "stream",
          "name": "stdout",
          "text": [
            "Clave 2: dos\n",
            "Clave: 1, Valor: uno\n",
            "Clave: 2, Valor: dos\n",
            "Clave: 3, Valor: tres\n"
          ]
        }
      ]
    },
    {
      "cell_type": "markdown",
      "source": [
        "**`std::unordered_map`** es un contenedor que utiliza una tabla hash para almacenar los pares key-value, donde no se garantiza ninún orden en las keys.\n",
        "\n",
        "\n",
        "\n",
        "```cpp\n",
        "#include <iostream>\n",
        "#include <unordered_map>\n",
        "\n",
        "int main() {\n",
        "    std::unordered_map<int, std::string> umap;\n",
        "\n",
        "    // Insertar elementos\n",
        "    umap[1] = \"uno\";\n",
        "    umap[2] = \"dos\";\n",
        "    umap[3] = \"tres\";\n",
        "\n",
        "    // Acceder a un elemento\n",
        "    std::cout << \"Clave 2: \" << umap[2] << std::endl;\n",
        "\n",
        "    // Recorrer el unordered_map\n",
        "    for (const auto& pair : umap) {\n",
        "        std::cout << \"Clave: \" << pair.first << \", Valor: \" << pair.second << std::endl;\n",
        "    }\n",
        "\n",
        "    return 0;\n",
        "}\n",
        "\n",
        "```\n",
        "\n"
      ],
      "metadata": {
        "id": "-uF7XkvcH3Rr"
      }
    },
    {
      "cell_type": "code",
      "source": [
        "code = \"\"\"\n",
        "#include <iostream>\n",
        "#include <unordered_map>\n",
        "\n",
        "int main() {\n",
        "    std::unordered_map<int, std::string> umap;\n",
        "\n",
        "    // Insertar elementos\n",
        "    umap[1] = \"uno\";\n",
        "    umap[2] = \"dos\";\n",
        "    umap[3] = \"tres\";\n",
        "\n",
        "    // Acceder a un elemento\n",
        "    std::cout << \"Clave 2: \" << umap[2] << std::endl;\n",
        "\n",
        "    // Recorrer el unordered_map\n",
        "    for (const auto& pair : umap) {\n",
        "        std::cout << \"Clave: \" << pair.first << \", Valor: \" << pair.second << std::endl;\n",
        "    }\n",
        "\n",
        "    return 0;\n",
        "}\n",
        "\n",
        "\"\"\"\n",
        "\n",
        "# Compilar y ejecutar\n",
        "with open(\"hashmap.cpp\", \"w\") as f:\n",
        "    f.write(code)\n",
        "\n",
        "!g++ -std=c++20 -o hashmap hashmap.cpp\n",
        "!./hashmap"
      ],
      "metadata": {
        "colab": {
          "base_uri": "https://localhost:8080/"
        },
        "id": "Ydsbb__6HwMh",
        "outputId": "40cf54bb-6602-4804-8f8c-b6131c2ba406"
      },
      "execution_count": 7,
      "outputs": [
        {
          "output_type": "stream",
          "name": "stdout",
          "text": [
            "Clave 2: dos\n",
            "Clave: 3, Valor: tres\n",
            "Clave: 2, Valor: dos\n",
            "Clave: 1, Valor: uno\n"
          ]
        }
      ]
    },
    {
      "cell_type": "markdown",
      "source": [
        "## Valarray\n",
        "\n",
        "Es una estructura para cálculos numéricos con arreglos de datos. Su particularidad en C++ es que ofrece operaciones matemáticas vectorizadas, algo que no es nativo en muchos lenguajes fuera del ámbito científico.\n",
        "\n",
        "\n",
        "```cpp\n",
        "#include <valarray>\n",
        "#include <iostream>\n",
        "\n",
        "int main() {\n",
        "    std::valarray<int> vals = {1, 2, 3, 4};\n",
        "    std::valarray<int> result = vals * 2;\n",
        "\n",
        "    for (int n : result) {\n",
        "        std::cout << n << \" \";\n",
        "    }\n",
        "    return 0;\n",
        "}\n",
        "\n",
        "```\n",
        "\n"
      ],
      "metadata": {
        "id": "6u6FrxeFJhVq"
      }
    },
    {
      "cell_type": "markdown",
      "source": [
        "## Bitset\n",
        "\n",
        "Es una eestructura optimizada para manejar grandes conjuntos de bits. Su particularidad en C++ es que es muy eficiente en comparación con las implementaciones de bits en otros lenguajes. Se usa comúnmente para operaciones bit a bit y optimizaciones en problemas de combinatoria.\n",
        "\n",
        "\n",
        "```cpp\n",
        "#include <bitset>\n",
        "#include <iostream>\n",
        "\n",
        "int main() {\n",
        "    std::bitset<8> bits(\"10101010\");\n",
        "    std::cout << \"Bits: \" << bits << std::endl;\n",
        "    bits.flip(0); // Invierte el primer bit\n",
        "    std::cout << \"After flip: \" << bits << std::endl;\n",
        "    return 0;\n",
        "}\n",
        "\n",
        "```\n"
      ],
      "metadata": {
        "id": "ci-J5xyKJyYk"
      }
    },
    {
      "cell_type": "markdown",
      "source": [
        "## Resumen\n",
        "---\n",
        "\n",
        "1. `std::vector`: Arreglo dinámico con memoria contigua y acceso aleatorio rápido. Ideal para listas que cambian de tamaño frecuentemente.\n",
        "\n",
        "\\\n",
        "\n",
        "2. Views (`std::views`): Vistas ligeras para transformar, filtrar o procesar datos de forma perezosa sin copiar contenido.\n",
        "\n",
        "\\\n",
        "\n",
        "3. Iteradores (`::iterator`): Interfaz genérica para recorrer colecciones, abstrae los detalles de implementación de contenedores.\n",
        "\n",
        "\\\n",
        "\n",
        "4. `std::map`: Contenedor ordenado de pares clave-valor con búsqueda eficiente por clave, organizado por orden ascendente.\n",
        "\n",
        "\\\n",
        "\n",
        "5. `std::unordered_map`: Implementación basada en hash para búsquedas rápidas, sin garantía de orden de las claves.\n",
        "\n",
        "\\\n",
        "\n",
        "6. `std::valarray`: Contenedor especializado en operaciones matemáticas optimizadas con arreglos numéricos.\n",
        "\n",
        "\\\n",
        "\n",
        "7. `std::bitset`: Representación compacta de bits con soporte para operaciones binarias y manipulación eficiente.\n",
        "\n",
        "\\"
      ],
      "metadata": {
        "id": "XB-4IF8gKfw2"
      }
    },
    {
      "cell_type": "markdown",
      "source": [
        "# Gestión de memoria\n",
        "---\n",
        "En C++, la **gestión de memoria** es *manual*, lo que significa que el programador es responsable de la asignación y liberación de memoria. A continuación se describen los conceptos clave:\n",
        "\n",
        "![image.png](data:image/png;base64,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)\n",
        "\n"
      ],
      "metadata": {
        "id": "eLDgFzZGpR0X"
      }
    },
    {
      "cell_type": "markdown",
      "source": [
        "## Text Segment\n",
        "\n",
        "Su propósito es contener el código ejecutable del programa. Es una sección de solo lectura, lo que significa que las instrucciones que el programa va a ejecutar están almacenadas allí, pero no pueden modificarse durante la ejecución.\n",
        "\n",
        "> Generalmente, este segmento se encuentra en la parte baja de la memoria y es compartido entre todos los procesos que ejecutan el mismo programa."
      ],
      "metadata": {
        "id": "Q98Vp4CUsJgb"
      }
    },
    {
      "cell_type": "markdown",
      "source": [
        "## Data Segment\n",
        "\n",
        "Su propósito es almacenar las variables globales y estáticas, tanto inicializadas como no inicializadas.\n",
        "\n",
        "Este segmento está dividido en dos áreas principales: una para las variables que tienen valores asignados en el inicio del programa, y otra para las variables que no se inicializan explícitamente, pero se les asigna un valor predeterminado (como cero).\n",
        "\n",
        "> La memoria en este segmento permanece durante toda la ejecución del programa, por lo tanto se la denomina **Memoria estática**.\n"
      ],
      "metadata": {
        "id": "D0IV_CDqtDQl"
      }
    },
    {
      "cell_type": "markdown",
      "source": [
        "## Heap\n",
        "\n",
        "En C++, la **memoria dinámica** sse utiliza para la asignación de memoria en tiempo de ejecución. A través de los operadores `new` y `delete`,  el programa puede crear y liberar objetos o estructuras cuyos tamaños no se conocen en tiempo de compilación.\n",
        "\n",
        "> El heap es de acceso más lento que el stack, pero ofrece la flexibilidad de manejar grandes cantidades de datos y de forma dinámica."
      ],
      "metadata": {
        "id": "gvfy1tcEpxN0"
      }
    },
    {
      "cell_type": "markdown",
      "source": [
        "## Stack\n",
        "\n",
        "Este es la región donde se almacenan las variables locales y la información relacionada con las llamadas a funciones, como las direcciones de retorno.\n",
        "\n",
        "> Este segmento crece y decrece con cada llamada y retorno de función, lo que hace que el manejo de la memoria sea rápido y eficiente, aunque con un tamaño limitado."
      ],
      "metadata": {
        "id": "zYnyrObSps-g"
      }
    },
    {
      "cell_type": "markdown",
      "source": [
        "## Ejemplo de posicionamiento de memoria\n",
        "\n",
        "```cpp\n",
        "int globalVar = 10;  // Variable global - va al segmento de datos\n",
        "\n",
        "void exampleFunction() {\n",
        "    int localVar = 5;  // Variable local - va al stack\n",
        "    int* dynamicVar = new int(20);  // Memoria dinámica - va al heap\n",
        "\n",
        "    std::cout << \"Dirección de localVar: \" << &localVar << std::endl;\n",
        "    std::cout << \"Dirección de dynamicVar: \" << dynamicVar << std::endl;\n",
        "\n",
        "    delete dynamicVar;  // Liberar memoria del heap\n",
        "}\n",
        "\n",
        "int main() {\n",
        "    exampleFunction();\n",
        "    std::cout << \"Dirección de globalVar: \" << &globalVar << std::endl;\n",
        "\n",
        "    return 0;\n",
        "}\n",
        "\n",
        "```\n",
        "\n"
      ],
      "metadata": {
        "id": "S1L94CNdvQ60"
      }
    },
    {
      "cell_type": "code",
      "source": [
        "code = \"\"\"\n",
        "# include <iostream>\n",
        "\n",
        "int globalVar = 10;  // Variable global - va al segmento de datos\n",
        "\n",
        "void exampleFunction() {\n",
        "    int localVar = 5;  // Variable local - va al stack\n",
        "    int* dynamicVar = new int(20);  // Memoria dinámica - va al heap\n",
        "\n",
        "    std::cout << \"Dirección de localVar: \" << &localVar << std::endl;\n",
        "    std::cout << \"Dirección de dynamicVar: \" << dynamicVar << std::endl;\n",
        "\n",
        "    delete dynamicVar;  // Liberar memoria del heap\n",
        "}\n",
        "\n",
        "int main() {\n",
        "    exampleFunction();\n",
        "    std::cout << \"Dirección de globalVar: \" << &globalVar << std::endl;\n",
        "\n",
        "    return 0;\n",
        "}\n",
        "\"\"\"\n",
        "\n",
        "# Compilar y ejecutar\n",
        "with open(\"memory.cpp\", \"w\") as f:\n",
        "    f.write(code)\n",
        "\n",
        "!g++ memory.cpp -o memory\n",
        "!./memory"
      ],
      "metadata": {
        "colab": {
          "base_uri": "https://localhost:8080/"
        },
        "id": "uhmEumqVvrWD",
        "outputId": "f2735834-c342-40a2-b1ee-2ec7423065c5"
      },
      "execution_count": 4,
      "outputs": [
        {
          "output_type": "stream",
          "name": "stdout",
          "text": [
            "Dirección de localVar: 0x7fff3e960cfc\n",
            "Dirección de dynamicVar: 0x5c73486d9eb0\n",
            "Dirección de globalVar: 0x5c73474e9010\n"
          ]
        }
      ]
    },
    {
      "cell_type": "markdown",
      "source": [
        "## Ejemplo de una función recursiva para ver la posición en memoria del stack\n",
        "\n",
        "Cada vez que se realiza una llamada recursiva, se empuja un nuevo marco de pila (stack frame) al stack, que contiene las variables locales de esa invocación.\n",
        "\n",
        "```cpp\n",
        "void recursiveFunction(int n) {\n",
        "    // Variable local, cada llamada recursiva tendrá su propia copia\n",
        "    int localVar = n;\n",
        "    std::cout << \"Valor de localVar: \" << localVar << \", Dirección en el stack: \" << &localVar << std::endl;\n",
        "\n",
        "    if (n > 0) {\n",
        "        recursiveFunction(n - 1);  // Llamada recursiva\n",
        "    }\n",
        "}\n",
        "```\n",
        "\n"
      ],
      "metadata": {
        "id": "e9d9N0n_wP60"
      }
    },
    {
      "cell_type": "code",
      "source": [
        "code = \"\"\"\n",
        "#include <iostream>\n",
        "\n",
        "void recursiveFunction(int n) {\n",
        "    // Variable local, cada llamada recursiva tendrá su propia copia\n",
        "    int localVar = n;\n",
        "    std::cout << \"Valor de localVar: \" << localVar << \", Dirección en el stack: \" << &localVar << std::endl;\n",
        "\n",
        "    if (n > 0) {\n",
        "        recursiveFunction(n - 1);  // Llamada recursiva\n",
        "    }\n",
        "}\n",
        "\n",
        "int main() {\n",
        "    recursiveFunction(3);  // Iniciar la recursión\n",
        "    return 0;\n",
        "}\n",
        "\n",
        "\"\"\"\n",
        "\n",
        "# Compilar y ejecutar\n",
        "with open(\"stack.cpp\", \"w\") as f:\n",
        "    f.write(code)\n",
        "\n",
        "!g++ stack.cpp -o stack\n",
        "!./stack"
      ],
      "metadata": {
        "colab": {
          "base_uri": "https://localhost:8080/"
        },
        "id": "5-vwooUfwzGS",
        "outputId": "0045e2d1-5a5a-4a75-8829-7fd0ad00af81"
      },
      "execution_count": 5,
      "outputs": [
        {
          "output_type": "stream",
          "name": "stdout",
          "text": [
            "Valor de localVar: 3, Dirección en el stack: 0x7ffca9b0c3b4\n",
            "Valor de localVar: 2, Dirección en el stack: 0x7ffca9b0c384\n",
            "Valor de localVar: 1, Dirección en el stack: 0x7ffca9b0c354\n",
            "Valor de localVar: 0, Dirección en el stack: 0x7ffca9b0c324\n"
          ]
        }
      ]
    },
    {
      "cell_type": "markdown",
      "source": [
        "Como se puede observar, la dirección de memoria de cada variable `localVar` es diferente en cada llamada recursiva, lo que indica que se ha creado un nuevo espacio en el stack para cada invocación."
      ],
      "metadata": {
        "id": "mAGnQ1QnxSZK"
      }
    },
    {
      "cell_type": "markdown",
      "source": [
        "## Diferencias Principales con Rust\n",
        "\n",
        "> Ownership\n",
        "- En C++, no existe un sistema de \"ownership\" para los valores.\n",
        "- Esto significa que se puede tener múltiples referencias o punteros a la misma memoria sin restricciones.\n",
        "\n",
        "> Errores Comunes\n",
        "- **Punteros colgantes**: Acceso a memoria liberada.\n",
        "- **Fugas de memoria**: Olvidar liberar la memoria asignada dinámicamente.\n",
        "- **Condiciones de carrera**: Múltiples accesos concurrentes a un mismo valor."
      ],
      "metadata": {
        "id": "MmktAYgp5y5c"
      }
    },
    {
      "cell_type": "markdown",
      "source": [
        "## Resumen\n",
        "---\n",
        "\n",
        "C++ gestiona la memoria mediante varios segmentos principales:\n",
        "\n",
        "1. **Text Segment**:\n",
        "- Contiene el código ejecutable (de solo lectura).\n",
        "\n",
        "\\\n",
        "\n",
        "2. **Data Segment**:\n",
        "- Almacena variables globales y estáticas, dividiéndose en:\n",
        "- Inicializados: Variables con valores asignados.\n",
        "- BSS: Variables globales no inicializadas.\n",
        "\n",
        "\\\n",
        "\n",
        "3. **Stack**:\n",
        "- Guarda variables locales y llamadas de funciones\n",
        "- Es rápido y automático, pero limitado en tamaño\n",
        "\n",
        "\\\n",
        "\n",
        "4. **Heap**:\n",
        "- Usado para asignación dinámica con new y delete\n",
        "- Es flexible y amplio, pero lento y propenso a errores debido a su gestión manual.\n",
        "\n",
        "\\\n",
        "\n",
        "> **Ownership en C++** \\\n",
        "C++ no tiene un modelo de \"ownership\". Esto facilita compartir memoria entre variables, pero introduce riesgos como punteros colgantes y fugas de memoria.\n",
        "\n",
        "\\\n",
        "\n",
        "\n"
      ],
      "metadata": {
        "id": "pd8A0_fs6dos"
      }
    },
    {
      "cell_type": "markdown",
      "source": [
        "# Principios de programación orientada a objetos\n",
        "\n",
        "C++ es un lenguaje que soporta los principios fundamentales de la programación orientada a objetos **OPP**, ofreciendo características clave como la encapsulación, la herencia, el polimorfismo y la abstracción.\n",
        "\n",
        "\n"
      ],
      "metadata": {
        "id": "5CXmrgH-DmR_"
      }
    },
    {
      "cell_type": "markdown",
      "source": [
        "## Encapsulación\n",
        "\n",
        "C++ usa modificadores de acceso (`private`, `protected`, `public`) para ocultar detalles de implementación y exponer solo lo necesario, promoviendo así la seguridad y el mantenimiento del código.\n",
        "\n",
        "\n",
        "\n",
        "```cpp\n",
        "#include <iostream>\n",
        "using namespace std;\n",
        "\n",
        "class BankAccount {\n",
        "private:\n",
        "    double balance;  // La variable 'balance' está oculta (privada)\n",
        "\n",
        "public:\n",
        "    // Métodos para acceder y modificar el balance\n",
        "    void deposit(double amount) {\n",
        "        if (amount > 0) {\n",
        "            balance += amount;\n",
        "        }\n",
        "    }\n",
        "\n",
        "    double getBalance() const {\n",
        "        return balance;\n",
        "    }\n",
        "};\n",
        "\n",
        "int main() {\n",
        "    BankAccount account;\n",
        "    account.deposit(100.0);\n",
        "    cout << \"Balance: \" << account.getBalance() << endl;\n",
        "    // Solo puedes acceder al balance a través del método público\n",
        "    return 0;\n",
        "}\n",
        "\n",
        "```\n",
        "\n"
      ],
      "metadata": {
        "id": "6p4r8xVDJM0l"
      }
    },
    {
      "cell_type": "markdown",
      "source": [
        "## Herencia\n",
        "\n",
        "En C++, una clase puede heredar de otra, permitiendo la reutilización de código.\n",
        "\n",
        "\\\n",
        "\n",
        "Tipos en C++:\n",
        "- **Simple**, una clase deriva de una única clase base.\n",
        "- **Múltiple**, una clase deriva de muchas clases bases.\n",
        "- **Jerárquica**, varias clases derivan de una única clase base.\n",
        "- **Multinivel**, una clase deriva de otra derivada.\n",
        "\n",
        "> La herencia múltiple en C++ ofrece mayor flexibilidad, pero también requiere una gestión cuidadosa de las relaciones entre clases.\n",
        "\n",
        "\n",
        "```cpp\n",
        "#include <iostream>\n",
        "using namespace std;\n",
        "\n",
        "class Animal {\n",
        "public:\n",
        "    void eat() {\n",
        "        cout << \"El animal está comiendo.\" << endl;\n",
        "    }\n",
        "};\n",
        "\n",
        "class Dog : public Animal {  // Herencia de Animal\n",
        "public:\n",
        "    void bark() {\n",
        "        cout << \"El perro está ladrando.\" << endl;\n",
        "    }\n",
        "};\n",
        "\n",
        "int main() {\n",
        "    Dog myDog;\n",
        "    myDog.eat();  // Heredado de Animal\n",
        "    myDog.bark(); // Propio de Dog\n",
        "    return 0;\n",
        "}\n",
        "\n",
        "```\n",
        "\n",
        "\n"
      ],
      "metadata": {
        "id": "2nM3PwpnJooz"
      }
    },
    {
      "cell_type": "markdown",
      "source": [
        "## Polimorfismo\n",
        "\n",
        "En C++, el polimorfismo se implementa a través de funciones virtuales, lo que permite que las clases derivadas proporcionen su propia implementación de un método definido en la clase base.\n",
        "Esto es esencial para crear sistemas que puedan ser extendidos sin modificar el código existente.\n",
        "\n",
        "Existen dos tipos:\n",
        "- En tiempo de **compilación**, sobrecarga de funciones\n",
        "- En tiempo de **ejecución**, funciones virtuales.\n",
        "\n",
        "\n",
        "\n",
        "```cpp\n",
        "#include <iostream>\n",
        "using namespace std;\n",
        "\n",
        "class Animal {\n",
        "public:\n",
        "    virtual void speak() {  // Función virtual\n",
        "        cout << \"El animal hace un sonido.\" << endl;\n",
        "    }\n",
        "};\n",
        "\n",
        "class Dog : public Animal {\n",
        "public:\n",
        "    void speak() override {  // Sobrescribe el método de la clase base\n",
        "        cout << \"El perro dice guau.\" << endl;\n",
        "    }\n",
        "};\n",
        "\n",
        "int main() {\n",
        "    Animal* animal = new Dog();  // Puntero a Animal, pero objeto de tipo Dog\n",
        "    animal->speak();  // Llamada al método sobrescrito en Dog\n",
        "    delete animal;\n",
        "    return 0;\n",
        "}\n",
        "\n",
        "```\n",
        "> *Importante:* Las funciones virtuales requieren destructores virtuales para evitar fugas de memoria.\n",
        "\n",
        "\n",
        "\n"
      ],
      "metadata": {
        "id": "UyUAK1bmJuNp"
      }
    },
    {
      "cell_type": "markdown",
      "source": [
        "## Abstracción\n",
        "\n",
        "La abstracción en C++ se puede lograr usando clases abstractas y métodos virtuales puros, lo que permite que las clases derivadas implementen sus propios comportamientos mientras mantienen una interfaz común.\n",
        "\n",
        "```cpp\n",
        "#include <iostream>\n",
        "using namespace std;\n",
        "\n",
        "class Shape {\n",
        "public:\n",
        "    virtual void draw() = 0;  // Método puro virtual\n",
        "    virtual ~Shape() = default; // Destructor virtual\n",
        "};\n",
        "\n",
        "class Circle : public Shape {\n",
        "public:\n",
        "    void draw() override {\n",
        "        cout << \"Dibujando un círculo.\" << endl;\n",
        "    }\n",
        "};\n",
        "\n",
        "class Square : public Shape {\n",
        "public:\n",
        "    void draw() override {\n",
        "        cout << \"Dibujando un cuadrado.\" << endl;\n",
        "    }\n",
        "};\n",
        "\n",
        "int main() {\n",
        "    Shape* shape1 = new Circle();\n",
        "    Shape* shape2 = new Square();\n",
        "    \n",
        "    shape1->draw();  // Dibujando un círculo\n",
        "    shape2->draw();  // Dibujando un cuadrado\n",
        "    \n",
        "    delete shape1;\n",
        "    delete shape2;\n",
        "    return 0;\n",
        "}\n",
        "\n",
        "```\n",
        "\n"
      ],
      "metadata": {
        "id": "MTGO9Lp7JwBj"
      }
    },
    {
      "cell_type": "markdown",
      "source": [
        "## Resumen\n",
        "---\n",
        "\n",
        "1. **Encapsulación**:\n",
        "- Protege los datos dentro de la clase y proporciona métodos públicos para interactuar con ellos.\n",
        "\n",
        "\\\n",
        "\n",
        "2. **Herencia**:\n",
        "- Permite crear nuevas clases basadas en clases existentes, facilitando la reutilización del código.\n",
        "\n",
        "\\\n",
        "\n",
        "3. **Polimorfismo**:\n",
        "- Permite a las funciones y objetos comportarse de manera diferente según el tipo de objeto con el que se están utilizando.\n",
        "\n",
        "\\\n",
        "\n",
        "4. **Abstracción**:\n",
        "- Oculta los detalles internos y expone solo lo necesario a través de interfaces o clases abstractas.\n",
        "\n",
        "\\\n",
        "> C++ fomenta la extensibilidad mediante la combinación de los principios anteriores y el uso de patrones de diseño, ya que cada uno de estos es esencial para estructurar y diseñar programas en C++ de manera eficiente, modular y fácil de mantener.\n",
        "\n",
        "\\"
      ],
      "metadata": {
        "id": "ogbysFfCLARD"
      }
    },
    {
      "cell_type": "markdown",
      "source": [
        "# Seguridad y eficiencia de código\n",
        "\n",
        "En C++, la gestión de memoria y los punteros inteligentes son fundamentales para garantizar la seguridad y la eficiencia del código.\n",
        "\n",
        "A continuación explico algunos conceptos relacionados con smart pointers, polimorfismo dinámico y lifetimes, junto con alternativas propias de C++."
      ],
      "metadata": {
        "id": "kY4n3XJ9Br7R"
      }
    },
    {
      "cell_type": "markdown",
      "source": [
        "## Smart Pointers\n",
        "\n",
        "C++ ofrece varios tipos de **smart pointers** (punteros inteligentes) que son utilizados para gestionar la memoria automáticamente, evitando las fugas de memoria y los errores de acceso a memoria:\n",
        "\n",
        "- **`std::unique_ptr`**, garantiza la propiedad exclusiva de un objeto, solo puede haber un `unique_ptr` que apunte a un recurso en un momento dado. Cuando el `unique_ptr` se destruye, el recurso se libera automáticamente.\n",
        "\n",
        "```cpp\n",
        "std::unique_ptr<int> ptr = std::make_unique<int>(10);\n",
        "// No es necesario llamar a delete, ya que el puntero se va a liberar automáticamente\n",
        "```\n",
        "\n",
        "\\\n",
        "\n",
        "- **`std::shared_ptr`**, permite compartir la propiedad de un recurso entre varios punteros. El recurso se libera automáticamente cuando el último `shared_ptr` que lo posea sea destruido.\n",
        "\n",
        "```cpp\n",
        "std::shared_ptr<int> ptr1 = std::make_shared<int>(10);\n",
        "std::shared_ptr<int> ptr2 = ptr1;\n",
        "// Ambos comparten el mismo recurso\n",
        "```\n",
        "\n",
        "\\\n",
        "\n",
        "- **`std::weak_ptr`**, es un puntero que observa un `shared_ptr` pero no afecta al contador de referencias. Es útil para evitar ciclos de referencia.\n",
        "\n",
        "```cpp\n",
        "std::weak_ptr<int> weakPtr = ptr1;\n",
        "```\n",
        "\n"
      ],
      "metadata": {
        "id": "UQYQgfcrCIvS"
      }
    },
    {
      "cell_type": "markdown",
      "source": [
        "## Resource Acquisition Is Initialization\n",
        "\n",
        "RAII es un principio fundamental en C++ para gestionar recursos de forma segura y eficiente.\n",
        "\n",
        "Básicamente, garantiza que los recursos (como memoria, archivos, conexiones de red, etc.) se asignen cuando se inicializa un objeto y se liberen automáticamente cuando el objeto sale de su alcance (scope). Esto ayuda a evitar fugas de memoria y errores relacionados con la gestión de recursos.\n",
        "\n",
        "\\\n",
        "\n",
        "### Cómo Funciona RAII\n",
        "1. Los recursos se adquieren dentro del constructor de una **clase u objeto**.\n",
        "2. Cuando el objeto sale del alcance, su *destructor* es llamado automáticamente, liberando los recursos adquiridos.\n",
        "\n",
        "\n",
        "\n",
        "```cpp\n",
        "#include <iostream>\n",
        "#include <memory>\n",
        "\n",
        "// Clase RAII para gestionar un recurso dinámico\n",
        "class DynamicArray {\n",
        "    int* data; // Puntero a un array dinámico\n",
        "    size_t size;\n",
        "\n",
        "public:\n",
        "    // Constructor: asigna memoria dinámica\n",
        "    DynamicArray(size_t size) : size(size) {\n",
        "        data = new int[size];\n",
        "        std::cout << \"Memoria dinámica asignada para un array de tamaño \" << size << \".\" << std::endl;\n",
        "    }\n",
        "\n",
        "    // Método para acceder a los datos\n",
        "    int& operator[](size_t index) {\n",
        "        return data[index];\n",
        "    }\n",
        "\n",
        "    // Destructor: libera la memoria dinámica\n",
        "    ~DynamicArray() {\n",
        "        delete[] data;\n",
        "        std::cout << \"Memoria dinámica liberada automáticamente.\" << std::endl;\n",
        "    }\n",
        "};\n",
        "\n",
        "int main() {\n",
        "    {\n",
        "        DynamicArray array(5); // Se asigna memoria para un array de 5 enteros\n",
        "\n",
        "        // Uso del array\n",
        "        for (size_t i = 0; i < 5; ++i) {\n",
        "            array[i] = static_cast<int>(i) * 10; // Inicializa los valores\n",
        "        }\n",
        "\n",
        "        // Imprime los valores\n",
        "        for (size_t i = 0; i < 5; ++i) {\n",
        "            std::cout << \"array[\" << i << \"] = \" << array[i] << std::endl;\n",
        "        }\n",
        "        // Al salir de este bloque, el destructor de `DynamicArray` se llama automáticamente\n",
        "    }\n",
        "    std::cout << \"Fin del programa.\" << std::endl;\n",
        "\n",
        "    return 0;\n",
        "}\n",
        "```\n",
        "\n",
        "\n",
        "\n"
      ],
      "metadata": {
        "id": "hSfuEXLS9zzN"
      }
    },
    {
      "cell_type": "code",
      "source": [
        "code = \"\"\"\n",
        "#include <iostream>\n",
        "#include <memory>\n",
        "\n",
        "// Clase RAII para gestionar un recurso dinámico\n",
        "class DynamicArray {\n",
        "    int* data; // Puntero a un array dinámico\n",
        "    size_t size;\n",
        "\n",
        "public:\n",
        "    // Constructor: asigna memoria dinámica\n",
        "    DynamicArray(size_t size) : size(size) {\n",
        "        data = new int[size];\n",
        "        std::cout << \"Memoria dinámica asignada para un array de tamaño \" << size << \".\" << std::endl;\n",
        "    }\n",
        "\n",
        "    // Método para acceder a los datos\n",
        "    int& operator[](size_t index) {\n",
        "        return data[index];\n",
        "    }\n",
        "\n",
        "    // Destructor: libera la memoria dinámica\n",
        "    ~DynamicArray() {\n",
        "        delete[] data;\n",
        "        std::cout << \"Memoria dinámica liberada automáticamente.\" << std::endl;\n",
        "    }\n",
        "};\n",
        "\n",
        "int main() {\n",
        "    {\n",
        "        DynamicArray array(5); // Se asigna memoria para un array de 5 enteros\n",
        "\n",
        "        // Uso del array\n",
        "        for (size_t i = 0; i < 5; ++i) {\n",
        "            array[i] = static_cast<int>(i) * 10; // Inicializa los valores\n",
        "        }\n",
        "\n",
        "        // Imprime los valores\n",
        "        for (size_t i = 0; i < 5; ++i) {\n",
        "            std::cout << \"array[\" << i << \"] = \" << array[i] << std::endl;\n",
        "        }\n",
        "        // Al salir de este bloque, el destructor de `DynamicArray` se llama automáticamente\n",
        "    }\n",
        "    std::cout << \"Fin del programa.\" << std::endl;\n",
        "\n",
        "    return 0;\n",
        "}\n",
        "\"\"\"\n",
        "\n",
        "# Compilar y ejecutar\n",
        "with open(\"raii.cpp\", \"w\") as f:\n",
        "    f.write(code)\n",
        "\n",
        "!g++ raii.cpp -o raii\n",
        "!./raii"
      ],
      "metadata": {
        "colab": {
          "base_uri": "https://localhost:8080/"
        },
        "id": "xJBI8bwb-w31",
        "outputId": "f11fda29-b9da-4fc7-f31b-22ae9f5e5453"
      },
      "execution_count": 9,
      "outputs": [
        {
          "output_type": "stream",
          "name": "stdout",
          "text": [
            "Memoria dinámica asignada para un array de tamaño 5.\n",
            "array[0] = 0\n",
            "array[1] = 10\n",
            "array[2] = 20\n",
            "array[3] = 30\n",
            "array[4] = 40\n",
            "Memoria dinámica liberada automáticamente.\n",
            "Fin del programa.\n"
          ]
        }
      ]
    },
    {
      "cell_type": "markdown",
      "source": [
        "## Resumen\n",
        "---\n",
        "\n",
        "1. RAII (Resource Acquisition Is Initialization):\n",
        "\n",
        "- Asociar recursos (como memoria) al ciclo de vida de objetos para que se liberen automáticamente al salir de su alcance.\n",
        "\n",
        "\\\n",
        "\n",
        "2. Punteros Inteligentes (C++11 en adelante):\n",
        "\n",
        "- `std::unique_ptr`: Propiedad exclusiva de un recurso.\n",
        "- `std::shared_ptr`: Propiedad compartida con contadores de referencia.\n",
        "- `std::weak_ptr`: Evita ciclos de referencia con std::shared_ptr.\n",
        "\n",
        "\\\n"
      ],
      "metadata": {
        "id": "XCYkzQCdIru9"
      }
    },
    {
      "cell_type": "markdown",
      "source": [
        "# Macros\n",
        "\n",
        "Las macros en C++ son una característica del preprocesador que permite definir y reutilizar código de manera flexible. Son completamente personalizables y el usuario puede crearlas según sus necesidades específicas. Sin embargo, deben usarse con precaución debido a su naturaleza de sustitución textual que puede generar errores o comportamientos inesperados.\n",
        "\n",
        "\\\n",
        "\n",
        "Existen varios tipos:\n",
        "\n",
        "- **Simples**:\n",
        "```cpp\n",
        "#define PI 3.14159 // Constante literal\n",
        "std::cout << \"El valor de PI es: \" << PI << std::endl;\n",
        "```\n",
        "\n",
        "\n",
        "- **Con parámetros**:\n",
        "```cpp\n",
        "#define SQUARE(x) ((x) * (x))\n",
        "std::cout << \"El cuadrado de 4 es: \" << SQUARE(4) << std::endl;\n",
        "```\n",
        "> Pueden generar errores si se usan con expresiones complejas:\n",
        "```cpp\n",
        "std::cout << SQUARE(1 + 1); // Resultado inesperado: 1 + 1 * 1 + 1 = 3\n",
        "```\n",
        "\n",
        "\n",
        "- **Condicionales**: Se usan más que nada para decidir qué partes del código se compilan. Estas son útiles para depuración o configuraciones específicas.\n",
        "```cpp\n",
        "#ifdef DEBUG\n",
        "std::cout << \"Modo depuración activado\" << std::endl;\n",
        "#endif\n",
        "```\n",
        "\n",
        "\n",
        "- **Predefinidas**: Estas están disponibles automáticamente en todos los programas y proporcionan información sobre el entorno de compilación. \\\n",
        "`__FILE__`: Nombre del archivo actual. \\\n",
        "`__LINE__`: Número de línea actual. \\\n",
        "`__DATE__`, `__TIME__`: Fecha y hora de la compilación.\n",
        "\n",
        "\\"
      ],
      "metadata": {
        "id": "lWnaqwh6PcsZ"
      }
    },
    {
      "cell_type": "markdown",
      "source": [
        "## Personalización y Creación\n",
        "\n",
        "El usuario tiene total libertad para crear macros según sus necesidades, pero siempre se deberá recordar que:\n",
        "\n",
        "- **No tienen alcance**: Las macros son globales.\n",
        "- **No verifican tipos**: No son funciones reales.\n",
        "- **Pueden interactuar con el código de forma no esperada**: Esto ocurre porque solo realizan sustituciones textuales.\n",
        "\n",
        "\n",
        "```cpp\n",
        "#define MAX(a, b) ((a) > (b) ? (a) : (b))\n",
        "std::cout << \"El máximo entre 10 y 20 es: \" << MAX(10, 20) << std::endl;\n",
        "```\n",
        "\n"
      ],
      "metadata": {
        "id": "xijbDzpfWsr0"
      }
    },
    {
      "cell_type": "markdown",
      "source": [
        "## Pattern Matching con Macros\n",
        "\n",
        "Las macros pueden usarse para simular *pattern matching*, pero el enfoque tiende a ser más rígido y menos seguro. Por ejemplo, puedes crear una macro para definir casos y patrones:\n",
        "\n",
        "```cpp\n",
        "#include <iostream>\n",
        "\n",
        "#define MATCH(value, pattern, action) \\\n",
        "    if ((value) == (pattern)) { action; }\n",
        "\n",
        "int main() {\n",
        "    int x = 2;\n",
        "\n",
        "    MATCH(x, 1, std::cout << \"Es uno.\\n\");\n",
        "    MATCH(x, 2, std::cout << \"Es dos.\\n\");\n",
        "    MATCH(x, 3, std::cout << \"Es tres.\\n\");\n",
        "\n",
        "    return 0;\n",
        "}\n",
        "```\n",
        "\n"
      ],
      "metadata": {
        "id": "TxQQyJTKX8wL"
      }
    },
    {
      "cell_type": "markdown",
      "source": [
        "## Resumen\n",
        "---\n",
        "\n",
        "Las macros son instrucciones del preprocesador que permiten definir código reutilizable antes de la compilación usando #define. Son rápidas pero no seguras, ya que no tienen control de tipos.\n",
        "\n",
        "\\\n",
        "\n",
        "Tipos:\n",
        "- Simples: Sustituyen texto literal.\n",
        "- Con parámetros: Actúan como funciones inline.\n",
        "- Condicionales: Controlan la compilación.\n",
        "\n",
        "\\\n",
        "\n",
        "Para crear una macro se usa el `#define` el cual se expande durante la precompilación, reemplazando su uso en el código fuente.\n",
        "\n",
        "\\\n",
        "\n",
        "> C++ moderno prefiere plantillas y constexpr como alternativas más seguras."
      ],
      "metadata": {
        "id": "QJxfbOK6Z3lN"
      }
    },
    {
      "cell_type": "markdown",
      "source": [
        "# Usos de C++ en la actualidad\n",
        "\n",
        "C++ sigue siendo ampliamente utilizado hoy en día en varios campos, especialmente donde el rendimiento y la eficiencia son críticos."
      ],
      "metadata": {
        "id": "GL6k69q4fq5f"
      }
    },
    {
      "cell_type": "markdown",
      "source": [
        "## Videojuegos y Motores de Juego\n",
        "\n",
        "C++ es un lenguaje dominante en la industria de los videojuegos. Muchos juegos grandes y complejos se construyen con C++ debido a su ***acceso de bajo nivel al hardware***, lo que permite un mejor rendimiento y renderizado gráfico.\n",
        "\n",
        "Por ejemplo, motores de juego como Unreal Engine y el núcleo basado en C++ de Unity son ampliamente utilizados para desarrollar juegos AAA. Juegos como The Witcher 3, Fortnite y World of Warcraft han sido desarrollados usando C++."
      ],
      "metadata": {
        "id": "C8ATAN7Ef11l"
      }
    },
    {
      "cell_type": "markdown",
      "source": [
        "## Sistemas Embebidos\n",
        "\n",
        "C++ se utiliza ampliamente en sistemas embebidos, donde la interacción cercana con el hardware y el rendimiento en tiempo real son esenciales.\n",
        "\n",
        "Dispositivos como routers, equipos médicos e incluso sistemas aeronáuticos dependen de C++ para su desarrollo debido a su capacidad para gestionar recursos de manera eficiente y mantener la velocidad.\n"
      ],
      "metadata": {
        "id": "3guP5lz0gIyD"
      }
    },
    {
      "cell_type": "markdown",
      "source": [
        "## Aplicaciones de Software\n",
        "\n",
        "Empresas importantes como *Adobe*, *Google* y *Microsoft* utilizan C++ para desarrollar algunos de sus productos más emblemáticos. Por ejemplo, Photoshop, Google Chrome y Microsoft Office tienen componentes escritos en C++."
      ],
      "metadata": {
        "id": "bKCe-5EqgQpC"
      }
    },
    {
      "cell_type": "markdown",
      "source": [
        "## Computación de Alto Rendimiento\n",
        "\n",
        "En campos como las finanzas y la computación científica, donde el rendimiento es crucial, C++ se utiliza a menudo para escribir algoritmos que deben procesar grandes volúmenes de datos rápidamente.\n",
        "\n",
        "Su capacidad para gestionar la memoria de forma directa lo hace ideal para estos tipos de aplicaciones."
      ],
      "metadata": {
        "id": "Ljjq1WzkgalB"
      }
    },
    {
      "cell_type": "markdown",
      "source": [
        "# Conclusión\n",
        "\n",
        "C++ es un lenguaje de programación que combina potencia y flexibilidad, permitiendo a los desarrolladores manejar los recursos de manera eficiente y escribir código altamente optimizado. Gracias a sus características avanzadas, como los **templates**, **macros** y el enfoque de **RAII**, C++ ofrece una gran capacidad para crear software que maneja memoria de forma automática, reduciendo los errores humanos y mejorando la seguridad del código.\n",
        "\n",
        "\\\n",
        "\n",
        "El uso de **smart pointers** y conceptos como **polimorfismo** dentro de la programación orientada a objetos (OOP) facilita la creación de código extensible y modular, permitiendo la reutilización y el mantenimiento a largo plazo. Además, las colecciones en C++ como **vector**, **map**, **unordered_map**, **bitset** y **valarray** brindan una amplia variedad de estructuras de datos para gestionar información de manera eficiente en diferentes contextos.\n",
        "\n",
        "\\\n",
        "\n",
        "La **STL** (Standard Template Library) es una de las herramientas más poderosas de C++, proporcionando implementaciones listas para usar de contenedores y algoritmos, lo que facilita el desarrollo sin tener que reinventar la rueda. La capacidad de trabajar con iteradores y vistas (views) también permite una manipulación más flexible y eficiente de los datos, especialmente cuando se trabaja con secuencias y operaciones de transformación.\n",
        "\n",
        "En resumen, C++ ofrece un conjunto robusto de herramientas y características que, cuando se usan correctamente, permiten a los desarrolladores escribir código que no solo es rápido y eficiente, sino también seguro y fácil de mantener. Es un lenguaje que continúa siendo relevante por su rendimiento, su control detallado de los recursos y su capacidad para trabajar en sistemas complejos de alto rendimiento."
      ],
      "metadata": {
        "id": "B1KHQwSherN8"
      }
    }
  ]
}